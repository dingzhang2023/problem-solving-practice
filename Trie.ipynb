{
  "nbformat": 4,
  "nbformat_minor": 0,
  "metadata": {
    "colab": {
      "provenance": [],
      "authorship_tag": "ABX9TyM+jz73R+CveN8SFRyiKuhY",
      "include_colab_link": true
    },
    "kernelspec": {
      "name": "python3",
      "display_name": "Python 3"
    },
    "language_info": {
      "name": "python"
    }
  },
  "cells": [
    {
      "cell_type": "markdown",
      "metadata": {
        "id": "view-in-github",
        "colab_type": "text"
      },
      "source": [
        "<a href=\"https://colab.research.google.com/github/dingzhang2023/problem-solving-practice/blob/colab/Trie.ipynb\" target=\"_parent\"><img src=\"https://colab.research.google.com/assets/colab-badge.svg\" alt=\"Open In Colab\"/></a>"
      ]
    },
    {
      "cell_type": "markdown",
      "source": [
        "### Trie\n",
        "\n",
        "**04/07/2024**\n",
        "\n",
        "#### Core idea\n",
        "\n",
        "> -  Group the string according to their prefixes, where strings with the same first letter are grouped together, and so on.\n",
        "> -  To ensure that each letter corresponds to a specific node in a tree where each node's parent is the previous node's corresponding letter, `s[i]` is the parent node of `s[i + 1]`.\n",
        "> - Example of trie, a trie containing the words `apple`, `app`, `banana`, `bat` and `cat`. Here's how the Trie looks:\n",
        "\n",
        "                  (root)\n",
        "                  /\n",
        "                a\n",
        "                / \\\n",
        "              p   b\n",
        "              / \\   \\\n",
        "            p   p   a\n",
        "            /     \\   \\\n",
        "          l       l   t\n",
        "          /         \\\n",
        "        p           e\n",
        "        /\n",
        "        p\n",
        "        |\n",
        "        e\n",
        "\n",
        "> - Save extra information in each node based on problems, such as `is_word` and `cnt`.\n"
      ],
      "metadata": {
        "id": "Ih2V7zCeEW4l"
      }
    },
    {
      "cell_type": "markdown",
      "source": [
        "#### Major use cases\n",
        "The main problems solved by Trie include:\n",
        "\n",
        "1. String problems related to prefix\n",
        "2. XOR Number problems, which can be converted to binary representation using trie\n"
      ],
      "metadata": {
        "id": "w_B7j1hyZbcS"
      }
    },
    {
      "cell_type": "markdown",
      "source": [
        "#### Trie code template\n",
        "[208. Implement Trie (Prefix Tree)](https://leetcode.com/problems/implement-trie-prefix-tree/description/)\n",
        "> Trie template problem\n",
        "> - Insert\n",
        "> - Query\n",
        "> - Extra information saved in each node of trie, for this problem, flag `is_word` saved for id this node is a word or not."
      ],
      "metadata": {
        "id": "es6WAlVrHsNM"
      }
    },
    {
      "cell_type": "code",
      "execution_count": null,
      "metadata": {
        "id": "_zmfLbQIERne"
      },
      "outputs": [],
      "source": [
        "class Node:\n",
        "    __slot__ = 'son', 'is_word'\n",
        "\n",
        "\n",
        "    def __init__(self):\n",
        "        # use array\n",
        "        # self.son = [None] * 26\n",
        "        # use defaultdice(Node)\n",
        "        self.son = defaultdict(Node)\n",
        "        self.is_word = False\n",
        "\n",
        "\n",
        "class Trie:\n",
        "\n",
        "    def __init__(self):\n",
        "        self.root = Node()\n",
        "\n",
        "\n",
        "    def insert(self, word: str) -> None:\n",
        "        cur = self.root\n",
        "        for c in word:\n",
        "            cur = cur.son[c]\n",
        "        cur.is_word = True\n",
        "\n",
        "    def search(self, word: str) -> bool:\n",
        "        cur = self.root\n",
        "        for c in word:\n",
        "            if c not in cur.son:\n",
        "                return False\n",
        "            cur = cur.son[c]\n",
        "        return cur.is_word\n",
        "\n",
        "    def startsWith(self, prefix: str) -> bool:\n",
        "        cur = self.root\n",
        "        for c in prefix:\n",
        "            if c not in cur.son:\n",
        "                return False\n",
        "            cur = cur.son[c]\n",
        "        return True"
      ]
    },
    {
      "cell_type": "markdown",
      "source": [
        "#### Problem lists"
      ],
      "metadata": {
        "id": "zm_tFvdxWrml"
      }
    },
    {
      "cell_type": "markdown",
      "source": [
        "#### Trie code template\n",
        "[1804. Implement Trie (Prefix Tree II)](https://leetcode.com/problems/implement-trie-ii-prefix-tree/description/)\n",
        "> Trie template problem\n",
        "> - Insert\n",
        "> - Query\n",
        "> - Erase, use lazy delete technique, use `word_cnt` information to each node to check the current node is the end of a word."
      ],
      "metadata": {
        "id": "DmqZuuH1mu54"
      }
    },
    {
      "cell_type": "code",
      "source": [
        "class Node:\n",
        "    __slots__ = 'son', 'prefix_cnt', 'word_cnt'\n",
        "\n",
        "    def __init__(self):\n",
        "        self.son = defaultdict(Node)\n",
        "        self.prefix_cnt = 0\n",
        "        self.word_cnt = 0\n",
        "\n",
        "class Trie:\n",
        "\n",
        "    def __init__(self):\n",
        "        self.root = Node()\n",
        "\n",
        "\n",
        "    def insert(self, word: str) -> None:\n",
        "        cur = self.root\n",
        "        for c in word:\n",
        "            cur = cur.son[c]\n",
        "            cur.prefix_cnt += 1\n",
        "        cur.word_cnt += 1\n",
        "\n",
        "\n",
        "    def countWordsEqualTo(self, word: str) -> int:\n",
        "        cur = self.root\n",
        "        for c in word:\n",
        "            if c not in cur.son:\n",
        "                return 0\n",
        "            cur = cur.son[c]\n",
        "        return cur.word_cnt\n",
        "\n",
        "    def countWordsStartingWith(self, prefix: str) -> int:\n",
        "        cur = self.root\n",
        "        for c in prefix:\n",
        "            if c not in cur.son:\n",
        "                return 0\n",
        "            cur = cur.son[c]\n",
        "        return cur.prefix_cnt\n",
        "\n",
        "    def erase(self, word: str) -> None:\n",
        "        cur = self.root\n",
        "        for c in word:\n",
        "            if c not in cur.son:\n",
        "                return\n",
        "            cur = cur.son[c]\n",
        "            cur.prefix_cnt -= 1\n",
        "        cur.word_cnt -= 1"
      ],
      "metadata": {
        "id": "f5X0WOLWmvcs"
      },
      "execution_count": null,
      "outputs": []
    },
    {
      "cell_type": "markdown",
      "source": [
        "[2416. Sum of Prefix Scores Strings](https://leetcode.com/problems/sum-of-prefix-scores-of-strings/)\n",
        "\n",
        "> The essence of counting the number of strings passing through a node `x`, where `x` is also a prefix, can be effectively achieved using a variable to store the count of prefixes passing through each node. This application is indeed a classic use case of Trie data structure.\n",
        "\n",
        "> Insert each word into a Trie tree, then use Depth-First Search (DFS) starting from the root node to calculate the cumulative score of each character node, which is the answer.\n",
        "\n",
        "> Implementation tricks, using ids list to save the words pass this node."
      ],
      "metadata": {
        "id": "P8JA8e21bj4C"
      }
    },
    {
      "cell_type": "code",
      "source": [
        "class Node:\n",
        "    __slots__ = 'son', 'score', 'ids'\n",
        "\n",
        "    def __init__(self):\n",
        "        self.son = dict()\n",
        "        # self.son = defaultdict(Node)\n",
        "        self.score = 0\n",
        "        self.ids = []\n",
        "\n",
        "\n",
        "class Solution:\n",
        "    def sumPrefixScores(self, words: List[str]) -> List[int]:\n",
        "\n",
        "        root = Node()\n",
        "        # Insert word to trie\n",
        "        for i, word in enumerate(words):\n",
        "            cur = root\n",
        "            for c in word:\n",
        "                # comment if condition if use defaultdict()\n",
        "                if c not in cur.son:\n",
        "                    cur.son[c] = Node()\n",
        "                cur = cur.son[c]\n",
        "                cur.score += 1\n",
        "            cur.ids.append(i) # save the word passing the path\n",
        "\n",
        "        ans = [0] * len(words)\n",
        "        def dfs(node, total_score):\n",
        "            if node is None:\n",
        "                return\n",
        "\n",
        "            total_score += node.score\n",
        "            for i in node.ids:\n",
        "                ans[i] = total_score\n",
        "            for child in node.son.values():\n",
        "                dfs(child, total_score)\n",
        "\n",
        "        dfs(root, 0)\n",
        "        return ans"
      ],
      "metadata": {
        "id": "oJwtPPeNckLo"
      },
      "execution_count": null,
      "outputs": []
    },
    {
      "cell_type": "markdown",
      "source": [
        "[3045. Count Prefix and Suffix Pairs II](https://leetcode.com/problems/count-prefix-and-suffix-pairs-ii/description/)\n",
        "\n",
        "**Method I**\n",
        "> To transform the problem of determining whether one string is a prefix of another into a problem of only checking for prefixes\n",
        "\n",
        "> - Convert `s` to a list of pairs: [(s[0], s[n-1]), (s[1], s[n-2]),...,(s[n-1], s[0])]\n",
        "> - Check whether the pair list associated with `words[i]` is a prefix of the pair list associated with `words[j]`\n",
        "> - Use trie to check the prefix"
      ],
      "metadata": {
        "id": "0ZBDKw_OIy5i"
      }
    },
    {
      "cell_type": "code",
      "source": [
        "class Node:\n",
        "  __slot__ = 'son', 'cnt'\n",
        "\n",
        "  def __init__(self):\n",
        "    self.son = dict() # key is pair, value is node\n",
        "    self.cnt = 0 # the count of the words(pair) ends with this node\n",
        "\n",
        "class Solution:\n",
        "    def countPrefixSuffixPairs(self, words: List[str]) -> int:\n",
        "        ans = 0\n",
        "        root = Node()\n",
        "        for s in words:\n",
        "            cur = root\n",
        "            for p in zip(s, s[::-1]):\n",
        "                # p = (s[i], s[n-1-i])\n",
        "                if p not in cur.son:\n",
        "                    cur.son[p] = Node()\n",
        "                cur = cur.son[p]\n",
        "                ans += cur.cnt\n",
        "            # update the count of pair ends with s\n",
        "            cur.cnt += 1\n",
        "        return ans"
      ],
      "metadata": {
        "id": "zqE0Qt7SIyn6"
      },
      "execution_count": null,
      "outputs": []
    },
    {
      "cell_type": "markdown",
      "source": [
        "Method II\n",
        "> If `s` is both a prefix and a suffix of `t`, then for `t`, the length `|S|` of its prefix and suffix must be the same. The Z-function is defined as z[i] = LCP(s[i:], s) = n - i\n",
        ">\n"
      ],
      "metadata": {
        "id": "3Ss6LUyfUQPK"
      }
    },
    {
      "cell_type": "markdown",
      "source": [
        "[3093. Longest Common Suffix Queries](https://leetcode.com/problems/longest-common-suffix-queries/)\n",
        "\n",
        "> This problem only matches suffixes. After reversing the string, it becomes prefixes, which can be treated as multiple strings to solve the prefix matching problem. This is a typical use case of Trie.\n",
        "\n",
        "> Insert string to trie then query.\n",
        "\n",
        "> Implementation tricks, saving index and length of each word on the node of trie.\n",
        "\n",
        "> Edge case, empty string."
      ],
      "metadata": {
        "id": "Wj99xqYLfJ1n"
      }
    },
    {
      "cell_type": "markdown",
      "source": [
        "Using list to implement node of trie"
      ],
      "metadata": {
        "id": "z2eTofMFdNwB"
      }
    },
    {
      "cell_type": "code",
      "source": [
        "class Node:\n",
        "    __slots__ = 'son', 'min_len', 'i'\n",
        "\n",
        "    def __init__(self):\n",
        "        self.son = [None] * 26\n",
        "        self.min_l = inf\n",
        "\n",
        "class Solution:\n",
        "    def stringIndices(self, wordsContainer: List[str], wordsQuery: List[str]) -> List[int]:\n",
        "        ord_a = ord('a')\n",
        "        root = Node()\n",
        "        for idx, s in enumerate(wordsContainer):\n",
        "            l = len(s)\n",
        "            cur = root\n",
        "            if l < cur.min_len:\n",
        "                cur.min_len, cur.i = l, idx\n",
        "            for c in map(ord, reversed(s)):\n",
        "                c -= ord_a\n",
        "                if cur.son[c] is None:\n",
        "                    cur.son[c] = Node()\n",
        "                cur = cur.son[c]\n",
        "                # update the current node with the shortest prefix\n",
        "                if l < cur.min_l:\n",
        "                    cur.min_l, cur.i = l, idx\n",
        "\n",
        "        ans = []\n",
        "        for s in wordsQuery:\n",
        "            cur = root\n",
        "            for c in map(ord, reversed(s)):\n",
        "                c -= ord_a\n",
        "                if cur.son[c] is None:\n",
        "                    break\n",
        "                cur = cur.son[c]\n",
        "            ans.append(cur.i)\n",
        "        return ans"
      ],
      "metadata": {
        "id": "5yUUPaMHhm65"
      },
      "execution_count": null,
      "outputs": []
    },
    {
      "cell_type": "markdown",
      "source": [
        "Using defaultdict to implement node of trie"
      ],
      "metadata": {
        "id": "7ueRgIXZdVZ4"
      }
    },
    {
      "cell_type": "code",
      "source": [
        "class Node:\n",
        "    __slots__ = 'son', 'min_l', 'i'\n",
        "\n",
        "    def __init__(self):\n",
        "        self.son = defaultdict(Node)\n",
        "        self.min_l = inf\n",
        "\n",
        "class Solution:\n",
        "    def stringIndices(self, wordsContainer: List[str], wordsQuery: List[str]) -> List[int]:\n",
        "        root = Node()\n",
        "        for idx, s in enumerate(wordsContainer):\n",
        "            l = len(s)\n",
        "            cur = root\n",
        "            if l < cur.min_l:\n",
        "                cur.min_l, cur.i = l, idx\n",
        "            for c in reversed(s):\n",
        "                cur = cur.son[c]\n",
        "                if l < cur.min_l:\n",
        "                    cur.min_l, cur.i = l, idx\n",
        "\n",
        "        ans = []\n",
        "        for s in wordsQuery:\n",
        "            cur = root\n",
        "            for c in reversed(s):\n",
        "                # prefix does not exist\n",
        "                if c not in cur.son:\n",
        "                    break\n",
        "                cur = cur.son[c]\n",
        "            ans.append(cur.i)\n",
        "        return ans"
      ],
      "metadata": {
        "id": "OftUxRHNdatR"
      },
      "execution_count": null,
      "outputs": []
    },
    {
      "cell_type": "markdown",
      "source": [
        "#### Trie application in `XOR` problem 0-1 Trie\n",
        "\n"
      ],
      "metadata": {
        "id": "70FzvRiknzT_"
      }
    },
    {
      "cell_type": "markdown",
      "source": [
        "#### Template problem\n",
        "[421. Maximum XOR of Two Numbers in an Array](https://leetcode.com/problems/maximum-xor-of-two-numbers-in-an-array/description/)\n",
        "> Think each number in binary, for each bit 0 we need to check if there is a number whose current bit is 1, a data structure needed to main 0 and 1 and group each bit together based on 0 or 1.\n",
        "\n",
        "> Trie comes into play, for each bit from the left(highest one) to right, 0 or 1 can be seperated into left and right subtree, which is a smaller similar problem.\n",
        "\n",
        "> Each node of trie can be reused, which optimizes the space.\n",
        "\n",
        "> Important thinking is to use trie to **group** each bit for all numbers from the highest to lowest bit."
      ],
      "metadata": {
        "id": "-2_1IZpsoq4p"
      }
    },
    {
      "cell_type": "code",
      "source": [],
      "metadata": {
        "id": "Vuffq7DspStt"
      },
      "execution_count": null,
      "outputs": []
    },
    {
      "cell_type": "markdown",
      "source": [
        "[2935.  Maximum Strong Pair XOR II](https://leetcode.com/problems/maximum-strong-pair-xor-ii/description/)\n",
        "\n",
        ">"
      ],
      "metadata": {
        "id": "_T4gXjdvoEEE"
      }
    },
    {
      "cell_type": "code",
      "source": [],
      "metadata": {
        "id": "KMBq4mS_oA3b"
      },
      "execution_count": null,
      "outputs": []
    }
  ]
}