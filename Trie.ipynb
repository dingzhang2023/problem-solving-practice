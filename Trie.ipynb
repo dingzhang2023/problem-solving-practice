{
  "nbformat": 4,
  "nbformat_minor": 0,
  "metadata": {
    "colab": {
      "provenance": [],
      "authorship_tag": "ABX9TyOgrUzlC5aBQ29znu+XaHza",
      "include_colab_link": true
    },
    "kernelspec": {
      "name": "python3",
      "display_name": "Python 3"
    },
    "language_info": {
      "name": "python"
    }
  },
  "cells": [
    {
      "cell_type": "markdown",
      "metadata": {
        "id": "view-in-github",
        "colab_type": "text"
      },
      "source": [
        "<a href=\"https://colab.research.google.com/github/dingzhang2023/problem-solving-practice/blob/colab/Trie.ipynb\" target=\"_parent\"><img src=\"https://colab.research.google.com/assets/colab-badge.svg\" alt=\"Open In Colab\"/></a>"
      ]
    },
    {
      "cell_type": "markdown",
      "source": [
        "### Trie\n",
        "\n",
        "**04/07/2024**\n",
        "\n",
        "#### Core idea\n",
        "\n",
        "> -  Group the string according to their prefixes, where strings with the same first letter are grouped together, and so on.\n",
        "> -  To ensure that each letter corresponds to a specific node in a tree where each node's parent is the previous node's corresponding letter, `s[i]` is the parent node of `s[i + 1]`.\n",
        "> - Example of trie, a trie containing the words `apple`, `app`, `banana`, `bat` and `cat`. Here's how the Trie looks:\n",
        "\n",
        "                  (root)\n",
        "                  /\n",
        "                a\n",
        "                / \\\n",
        "              p   b\n",
        "              / \\   \\\n",
        "            p   p   a\n",
        "            /     \\   \\\n",
        "          l       l   t\n",
        "          /         \\\n",
        "        p           e\n",
        "        /\n",
        "        p\n",
        "        |\n",
        "        e\n",
        "\n",
        "> - Save extra information in each node based on problems, such as `is_word` and `cnt`.\n"
      ],
      "metadata": {
        "id": "Ih2V7zCeEW4l"
      }
    },
    {
      "cell_type": "markdown",
      "source": [
        "#### Major use cases\n",
        "The main problems solved by Trie include:\n",
        "\n",
        "1. String problems related to prefix\n",
        "2. XOR Number problems, which can be converted to binary representation using trie\n"
      ],
      "metadata": {
        "id": "w_B7j1hyZbcS"
      }
    },
    {
      "cell_type": "markdown",
      "source": [
        "#### Trie code template\n",
        "[208. Implement Trie (Prefix Tree)](https://leetcode.com/problems/implement-trie-prefix-tree/description/)\n",
        "> Trie template problem\n",
        "> - Insert\n",
        "> - Query\n",
        "> - Extra information saved in each node of trie, for this problem, flag `is_word` saved for id this node is a word or not."
      ],
      "metadata": {
        "id": "es6WAlVrHsNM"
      }
    },
    {
      "cell_type": "code",
      "execution_count": null,
      "metadata": {
        "id": "_zmfLbQIERne"
      },
      "outputs": [],
      "source": [
        "class Node:\n",
        "    __slot__ = 'son', 'is_word'\n",
        "\n",
        "\n",
        "    def __init__(self):\n",
        "        self.son = defaultdict(Node)\n",
        "        self.is_word = False\n",
        "\n",
        "\n",
        "class Trie:\n",
        "\n",
        "    def __init__(self):\n",
        "        self.root = Node()\n",
        "\n",
        "\n",
        "    def insert(self, word: str) -> None:\n",
        "        cur = self.root\n",
        "        for c in word:\n",
        "            cur = cur.son[c]\n",
        "        cur.is_word = True\n",
        "\n",
        "    def search(self, word: str) -> bool:\n",
        "        cur = self.root\n",
        "        for c in word:\n",
        "            if c not in cur.son:\n",
        "                return False\n",
        "            cur = cur.son[c]\n",
        "        return cur.is_word\n",
        "\n",
        "    def startsWith(self, prefix: str) -> bool:\n",
        "        cur = self.root\n",
        "        for c in prefix:\n",
        "            if c not in cur.son:\n",
        "                return False\n",
        "            cur = cur.son[c]\n",
        "        return True"
      ]
    },
    {
      "cell_type": "markdown",
      "source": [
        "#### Problem lists"
      ],
      "metadata": {
        "id": "zm_tFvdxWrml"
      }
    },
    {
      "cell_type": "markdown",
      "source": [
        "[2416. Sum of Prefix Scores Strings](https://leetcode.com/problems/sum-of-prefix-scores-of-strings/)\n",
        "\n",
        ">"
      ],
      "metadata": {
        "id": "P8JA8e21bj4C"
      }
    },
    {
      "cell_type": "code",
      "source": [],
      "metadata": {
        "id": "oJwtPPeNckLo"
      },
      "execution_count": null,
      "outputs": []
    },
    {
      "cell_type": "markdown",
      "source": [
        "[3045. Count Prefix and Suffix Pairs II](https://leetcode.com/problems/count-prefix-and-suffix-pairs-ii/description/)\n",
        "\n",
        "**Method I**\n",
        "> To transform the problem of determining whether one string is a prefix of another into a problem of only checking for prefixes\n",
        "\n",
        "> - Convert `s` to a list of pairs: [(s[0], s[n-1]), (s[1], s[n-2]),...,(s[n-1], s[0])]\n",
        "> - Check whether the pair list associated with `words[i]` is a prefix of the pair list associated with `words[j]`\n",
        "> - Use trie to check the prefix"
      ],
      "metadata": {
        "id": "0ZBDKw_OIy5i"
      }
    },
    {
      "cell_type": "code",
      "source": [
        "class Node:\n",
        "  __slot__ = 'son', 'cnt'\n",
        "\n",
        "  def __init__(self):\n",
        "    self.son = dict() # key is pair, value is node\n",
        "    self.cnt = 0 # the count of the words(pair) ends with this node\n",
        "\n",
        "class Solution:\n",
        "    def countPrefixSuffixPairs(self, words: List[str]) -> int:\n",
        "        ans = 0\n",
        "        root = Node()\n",
        "        for s in words:\n",
        "            cur = root\n",
        "            for p in zip(s, s[::-1]):\n",
        "                # p = (s[i], s[n-1-i])\n",
        "                if p not in cur.son:\n",
        "                    cur.son[p] = Node()\n",
        "                cur = cur.son[p]\n",
        "                ans += cur.cnt\n",
        "            # update the count of pair ends with s\n",
        "            cur.cnt += 1\n",
        "        return ans"
      ],
      "metadata": {
        "id": "zqE0Qt7SIyn6"
      },
      "execution_count": null,
      "outputs": []
    },
    {
      "cell_type": "markdown",
      "source": [
        "Method II\n",
        "> If `s` is both a prefix and a suffix of `t`, then for `t`, the length `|S|` of its prefix and suffix must be the same. The Z-function is defined as z[i] = LCP(s[i:], s) = n - i\n",
        ">\n"
      ],
      "metadata": {
        "id": "3Ss6LUyfUQPK"
      }
    }
  ]
}