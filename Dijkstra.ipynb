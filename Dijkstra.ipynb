{
  "nbformat": 4,
  "nbformat_minor": 0,
  "metadata": {
    "colab": {
      "provenance": [],
      "authorship_tag": "ABX9TyM3iBCHPrIcQ8VA/mCzXupg",
      "include_colab_link": true
    },
    "kernelspec": {
      "name": "python3",
      "display_name": "Python 3"
    },
    "language_info": {
      "name": "python"
    }
  },
  "cells": [
    {
      "cell_type": "markdown",
      "metadata": {
        "id": "view-in-github",
        "colab_type": "text"
      },
      "source": [
        "<a href=\"https://colab.research.google.com/github/dingzhang2023/problem-solving-practice/blob/colab/Dijkstra.ipynb\" target=\"_parent\"><img src=\"https://colab.research.google.com/assets/colab-badge.svg\" alt=\"Open In Colab\"/></a>"
      ]
    },
    {
      "cell_type": "markdown",
      "source": [
        "#### Dijkstra\n",
        "\n",
        "Dijkstra's Algorithm Introduction\n",
        "\n",
        "> Define $ g[i][j] $ as the weight of the edge from node $i$ to node $ j $. If there is no edge from $i$ to $j$, then $ g[i][j] = \\infty $.\n",
        "\n",
        "> Define $ \\text{dis}[i] $ as the shortest path length from node $k$ to node $ i $. Initially, $ \\text{dis}[k] = 0 $ and all other $ \\text{dis}[i] = \\infty $ indicating it has not been calculated yet.\n",
        "\n",
        "Our goal is to compute the final $ \\text{dis} $ array.\n",
        "\n",
        "1. Firstly, update the shortest path from node $ k $ to its neighbors $ y $, i.e., update $ \\text{dis}[y] $ to $ g[k][y] $.\n",
        "2. Then, take the minimum value of $ \\text{dis}[i] $ except for node $ k $, suppose the minimum value corresponds to node $ 3 $. At this point, it can be asserted that $ \\text{dis}[3] $ is the shortest path length from $ k $ to $ 3 $, and there cannot be any other shorter paths from $ k $ to $ 3 $. Proof by contradiction: Assuming there exists a shorter path, then we must go from $ k $ through a node $ u $, where $ \\text{dis}[u] $ is smaller than $ \\text{dis}[3] $, and then through some edges to reach $ 3 $, obtaining a smaller $ \\text{dis}[3] $. But $ \\text{dis}[3] $ is already the minimum, and there are no negative edge weights in the graph, so $ u $ does not exist, which is contradictory. Therefore, the original proposition holds true, and we obtain the final value of $ \\text{dis}[3] $.\n",
        "3. Update $ \\text{dis}[y] $ using the edge weight $ g[3][y] $: if $ \\text{dis}[3] + g[3][y] < \\text{dis}[y] $, then update $ \\text{dis}[y] $ to $ \\text{dis}[3] + g[3][y] $, otherwise do not update.\n",
        "4. Repeat the above process for all nodes except $ k $ and $ 3 $.\n",
        "5. By mathematical induction, this approach can obtain the shortest path for each node. When the shortest paths for all nodes are determined, the algorithm ends.\n",
        "\n",
        "**Approach 1: Naive Dijkstra (Suitable for Dense Graphs)**\n",
        "\n",
        "For this problem, when calculating the shortest paths, if we find that the current minimum shortest path is equal to $ \\infty $, it means that there are nodes that cannot be reached, and we can terminate the algorithm early, returning $ \\text -1 $.\n",
        "\n",
        "If all nodes can be reached, return $ \\text max(dis) $.\n",
        "\n",
        "For this question, node numbering should start from 0, substracting 1 from node number."
      ],
      "metadata": {
        "id": "GRBWWFG0ATk0"
      }
    },
    {
      "cell_type": "markdown",
      "source": [
        "#### Template Problem\n",
        "[743. Network Delay Time](https://leetcode.com/problems/network-delay-time/description/)\n",
        "\n"
      ],
      "metadata": {
        "id": "Hyrl6HLR7e_i"
      }
    },
    {
      "cell_type": "markdown",
      "source": [
        "##### Method I: Naive Dijkstra\n",
        "\n",
        "- Time complexity: $ O(n^2) $.\n",
        "- Space complexity: $ O(n^2) $."
      ],
      "metadata": {
        "id": "qZtX05MGHSey"
      }
    },
    {
      "cell_type": "code",
      "execution_count": null,
      "metadata": {
        "id": "LvE_9qzF7YBi"
      },
      "outputs": [],
      "source": [
        "class Solution:\n",
        "    def networkDelayTime(self, times: List[List[int]], n: int, k: int) -> int:\n",
        "        g = [[inf for _ in range(n)] for _ in range(n)] # Adjacency Matrix\n",
        "        for x, y, d in times:\n",
        "            g[x - 1][y - 1] = d # node numbering starts from 0\n",
        "\n",
        "        dis = [inf] * n\n",
        "        ans = dis[k - 1] = 0\n",
        "        visited = [False] * n\n",
        "\n",
        "        while True:\n",
        "            x = -1\n",
        "            for i, ok in enumerate(visited):\n",
        "                if not ok and (x < 0 or dis[i] < dis[x]):\n",
        "                    x = i # find the shortest edge\n",
        "            if x < 0:\n",
        "                return ans\n",
        "            if dis[x] == inf: # cant reach a node\n",
        "                return -1\n",
        "            ans = dis[x]\n",
        "            visited[x] = True\n",
        "            for y, d in enumerate(g[x]):\n",
        "                dis[y] = min(dis[y], dis[x] + d)"
      ]
    },
    {
      "cell_type": "markdown",
      "source": [
        "- Method II: Heap-Optimized Dijkstra (Suitable for Sparse Graphs)\n",
        "\n",
        "The process of finding the minimum value can be quickly accomplished using a min-heap:\n",
        "\n",
        "1. Initially, enqueue the tuple $ (\\text{dis}[k], k) $ into the heap.\n",
        "2. When a node $ x $ is dequeued for the first time, $ \\text{dis}[x] $ is the minimum shortest path found so far.\n",
        "3. When updating $ \\text{dis}[y] $, enqueue the tuple $ (\\text{dis}[y], y) $ into the heap.\n",
        "4. Note that if a node $ x $ is dequeued multiple times before it's actually processed, there may be multiple occurrences of $ x $ in the heap, and the $ \\text{dis}[x] $ values in the tuples containing $ x $ are all distinct (because we only enqueue a tuple when we find a shorter path).\n",
        "\n",
        "Therefore, the use of the done array in Approach 1 can be eliminated. Instead, we compare the dequeued shortest path value (denoted as $ d_x $) with the current $ \\text{dis}[x] $. If $ d_x > \\text{dis}[x] $, it means that node $ x $ has been dequeued before, and we have already updated the shortest paths of $ x $'s neighbors, so we can skip this iteration and continue the outer loop."
      ],
      "metadata": {
        "id": "9jC-VR35HhBx"
      }
    },
    {
      "cell_type": "code",
      "source": [
        "class Solution:\n",
        "    def networkDelayTime(self, times: List[List[int]], n: int, k: int) -> int:\n",
        "        g = [[] for _ in range(n)]  # Adjacecy Matrix\n",
        "        for x, y, d in times:\n",
        "            g[x - 1].append((y - 1, d))\n",
        "\n",
        "        dis = [inf] * n\n",
        "        dis[k - 1] = 0\n",
        "        h = [(0, k - 1)]\n",
        "        while h:\n",
        "            dx, x = heappop(h)\n",
        "            if dx > dis[x]:  # x is out of heap\n",
        "                continue\n",
        "            for y, d in g[x]:\n",
        "                new_dis = dx + d\n",
        "                if new_dis < dis[y]:\n",
        "                    dis[y] = new_dis  # got the shortest path neighbor\n",
        "                    heappush(h, (new_dis, y))\n",
        "        mx = max(dis)\n",
        "        return mx if mx < inf else -1"
      ],
      "metadata": {
        "id": "bX95yLY4I-eb"
      },
      "execution_count": null,
      "outputs": []
    }
  ]
}