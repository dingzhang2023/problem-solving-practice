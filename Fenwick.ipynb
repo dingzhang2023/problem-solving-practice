{
  "nbformat": 4,
  "nbformat_minor": 0,
  "metadata": {
    "colab": {
      "provenance": [],
      "authorship_tag": "ABX9TyOdhNoR91aNl6MO9JnFzggs",
      "include_colab_link": true
    },
    "kernelspec": {
      "name": "python3",
      "display_name": "Python 3"
    },
    "language_info": {
      "name": "python"
    }
  },
  "cells": [
    {
      "cell_type": "markdown",
      "metadata": {
        "id": "view-in-github",
        "colab_type": "text"
      },
      "source": [
        "<a href=\"https://colab.research.google.com/github/dingzhang2023/problem-solving-practice/blob/colab/Fenwick.ipynb\" target=\"_parent\"><img src=\"https://colab.research.google.com/assets/colab-badge.svg\" alt=\"Open In Colab\"/></a>"
      ]
    },
    {
      "cell_type": "markdown",
      "source": [
        "### Fenwick Tree\n",
        "\n",
        "**03/21/2024**\n",
        "\n",
        "#### Core idea\n",
        "\n",
        "> -   O(logn) to update an element,\n",
        "> -   O(logn) to query prefix sum"
      ],
      "metadata": {
        "id": "F_baXpSBAebr"
      }
    },
    {
      "cell_type": "markdown",
      "source": [
        "#### Code Template"
      ],
      "metadata": {
        "id": "RXDPSwH-Av6B"
      }
    },
    {
      "cell_type": "code",
      "execution_count": null,
      "metadata": {
        "id": "7SbhvDoAPwDy"
      },
      "outputs": [],
      "source": [
        "class Fenwick:\n",
        "    __slot__ = 'tree'\n",
        "\n",
        "    def __init__(self, n):\n",
        "        self.tree = [0] * n\n",
        "\n",
        "\n",
        "    def add(self, i):\n",
        "        while i < len(self.tree):\n",
        "            self.tree[i] += 1\n",
        "            i += i & -i\n",
        "\n",
        "\n",
        "    def pre_sum(self, i):\n",
        "        res = 0\n",
        "        while i > 0:\n",
        "            res += self.tree[i]\n",
        "            i -= i & -i\n",
        "        return res"
      ]
    },
    {
      "cell_type": "markdown",
      "source": [
        "#### Problem List\n",
        "\n",
        "[307. Range Sum Query - Mutable](https://leetcode.com/problems/range-sum-query-mutable/description/)\n",
        "\n",
        "\n",
        "\n",
        "*   Calculate prefix sum of array dynamicly, query after update elements in array\n",
        "\n"
      ],
      "metadata": {
        "id": "jG7CR8BpBQ57"
      }
    },
    {
      "cell_type": "code",
      "source": [
        "class NumArray:\n",
        "    __slot__ = 'nums', 'tree'\n",
        "\n",
        "    def __init__(self, nums: List[int]):\n",
        "        n = len(nums)\n",
        "        self.nums = [0] * n\n",
        "        self.tree = [0] * (n + 1) # index starts with 1\n",
        "        for i, x in enumerate(nums):\n",
        "            self.update(i, x)\n",
        "\n",
        "    def update(self, index: int, val: int) -> None:\n",
        "        delta = val - self.nums[index]\n",
        "        self.nums[index] = val\n",
        "        i = index + 1\n",
        "        while i < len(self.tree):\n",
        "            self.tree[i] += delta\n",
        "            i += i & -i\n",
        "\n",
        "    def pre_sum(self, i):\n",
        "        res = 0\n",
        "        while i:\n",
        "            res += self.tree[i]\n",
        "            i -= i & -i\n",
        "        return res\n",
        "\n",
        "    def sumRange(self, left: int, right: int) -> int:\n",
        "        return self.pre_sum(right + 1) - self.pre_sum(left)"
      ],
      "metadata": {
        "id": "rRM9qjWOA-er"
      },
      "execution_count": null,
      "outputs": []
    }
  ]
}